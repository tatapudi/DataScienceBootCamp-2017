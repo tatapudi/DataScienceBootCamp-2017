{
 "cells": [
  {
   "cell_type": "markdown",
   "metadata": {
    "slideshow": {
     "slide_type": "slide"
    }
   },
   "source": [
    "# Introduction"
   ]
  },
  {
   "cell_type": "markdown",
   "metadata": {
    "slideshow": {
     "slide_type": "slide"
    }
   },
   "source": [
    "## What's so special about Jupyter notebooks?\n",
    "\n",
    "* Jupyter's power is in having code, data, and text all accessible from **one file viewed in a browser**, living locally or in the cloud.  \n",
    "* The Jupyter Project used to be part of the IPython Project and has spun off.  \n",
    "* It supports over 40 different languages (see this [article](https://github.com/ipython/ipython/wiki/IPython-kernels-for-other-languages)) and that is actively growing."
   ]
  },
  {
   "cell_type": "markdown",
   "metadata": {
    "slideshow": {
     "slide_type": "slide"
    }
   },
   "source": [
    "## Text bits\n",
    "\n",
    "The text in a notebook is written in the simple __markdown__ language, making it a rich format capable of \"rendering\" latex, links, images and even html (since we're in a browser and the R kernel let's us).  \n",
    "\n",
    "*However*, the **philosophy** of markdown is, above all else, to **make it readable** in either its rendered or plain text format.  "
   ]
  },
  {
   "cell_type": "markdown",
   "metadata": {
    "slideshow": {
     "slide_type": "slide"
    }
   },
   "source": [
    "## The \"new\" wave on the block (at least R-flavored notebooks)\n",
    "\n",
    "Amazing fact: in 2014, there were 80,000 jupyter notebooks on github.  In 2015 the number almost tripled to 230,000.  This shows how popular and fast-growing the usage is in the community. \n",
    "\n",
    "- github numbers from article by Alex Perrier [here](https://www.opendatascience.com/blog/jupyter-zeppelin-beaker-the-rise-of-the-notebooks/)"
   ]
  },
  {
   "cell_type": "markdown",
   "metadata": {
    "slideshow": {
     "slide_type": "notes"
    }
   },
   "source": [
    "More specific stats on the percentages of those notebooks which are using R may not be a representative dataset to glean a trend from at this point given the project is still very young."
   ]
  },
  {
   "cell_type": "markdown",
   "metadata": {
    "slideshow": {
     "slide_type": "slide"
    }
   },
   "source": [
    "# History"
   ]
  },
  {
   "cell_type": "markdown",
   "metadata": {
    "ExecuteTime": {
     "end_time": "2016-06-26T12:14:23.041527",
     "start_time": "2016-06-26T19:14:22.949Z"
    },
    "slideshow": {
     "slide_type": "slide"
    }
   },
   "source": [
    "\n",
    "\n",
    "## What I learned after reading the [IPython introductory paper](https://web.archive.org/web/20100602042637/http:/fperez.org/papers/ipython07_pe-gr_cise.pdf) by Fernando Perez\n",
    "\n",
    "Originating in 2001, it was created initially by Perez as an enhanced interactive python shell. \n",
    " \n",
    "IPython was initially created to fill a need for an enhancement to the Python interpreter.  Something useful in addition to simply running snippets of code line by line.\n"
   ]
  },
  {
   "cell_type": "markdown",
   "metadata": {
    "slideshow": {
     "slide_type": "slide"
    }
   },
   "source": [
    "## How IPython went above and beyond a regular REPL\n",
    "1. Retain access to the environment's state\n",
    "* Include a control system\n",
    "* Perform OS-level actions\n",
    "* Perform introspection and help\n",
    "* Execute and debug apps within its interface"
   ]
  },
  {
   "cell_type": "markdown",
   "metadata": {
    "slideshow": {
     "slide_type": "fragment"
    }
   },
   "source": [
    "As an aside, it was so good at OS-level actions that some Windows users adopted it in place of the native command prompt."
   ]
  },
  {
   "cell_type": "markdown",
   "metadata": {
    "slideshow": {
     "slide_type": "slide"
    }
   },
   "source": [
    "## When the IPython enhanced interpreter went to a browser-based project doing the same stuff\n",
    "In December of 2011, Perez, Brian Granger and Min Ragan-Kelley figured out a way to convert the interactive shell into a browser with \"cells\" where code is executed.  Also, there are \"cells\" specifically for markdown text."
   ]
  },
  {
   "cell_type": "markdown",
   "metadata": {
    "slideshow": {
     "slide_type": "slide"
    }
   },
   "source": [
    "## The R kernel is a younger cousing of the python kernel\n",
    "\n",
    "The R kernel (IRkernel) is a much, much newer project with it's **first** release of 0.1 on Mar 5, 2015 (source: https://github.com/IRkernel/IRkernel/releases)\n",
    "* **No magics** ((the ability to leverage other languages/process types in IPython) for the R kernel and probably never...they'd have to resolve the modulus to magic indicator conflict (`%%`)"
   ]
  },
  {
   "cell_type": "markdown",
   "metadata": {
    "slideshow": {
     "slide_type": "slide"
    }
   },
   "source": [
    "* However, R code can be run from within a python flavored notebook using a python library `rpy2` and is currently a common option for **combining the IPython features with R** in academic pubs"
   ]
  },
  {
   "cell_type": "markdown",
   "metadata": {
    "slideshow": {
     "slide_type": "slide"
    }
   },
   "source": [
    "<img width = 700 src = 'images/03_Image_Analysis_with_k-Means/rpy2.png'>"
   ]
  },
  {
   "cell_type": "markdown",
   "metadata": {
    "slideshow": {
     "slide_type": "notes"
    }
   },
   "source": [
    "The jupyter **notebook above** can be found at the github repo [here](https://github.com/michhar/rpy2_sample_notebooks).  There is also a [blog](http://blog.revolutionanalytics.com/2016/01/pipelining-r-python.html) about the idea of pipelining R and python in practice (**caveat**: don't try pipelining on big data; useful for prototyping or Mb - Gb datasets)."
   ]
  },
  {
   "cell_type": "markdown",
   "metadata": {
    "slideshow": {
     "slide_type": "slide"
    }
   },
   "source": [
    "# Perspectives"
   ]
  },
  {
   "cell_type": "markdown",
   "metadata": {
    "slideshow": {
     "slide_type": "slide"
    }
   },
   "source": [
    "## On the jupyter project's hopeful future in data science\n",
    "\n",
    "> \"Jupyter is an amazing project that feeds and rides the rising wave of data science.\"  \n",
    "- quote from article by Alex Perrier [here](https://www.opendatascience.com/blog/jupyter-zeppelin-beaker-the-rise-of-the-notebooks/)"
   ]
  },
  {
   "cell_type": "markdown",
   "metadata": {
    "collapsed": true,
    "slideshow": {
     "slide_type": "slide"
    }
   },
   "source": [
    "## Resources\n",
    "\n",
    "* Markdown\n",
    "  1.  Markdown cheat sheet:  https://github.com/adam-p/markdown-here/wiki/Markdown-Cheatsheet\n",
    "  * John Gruber's markdown guide:  http://daringfireball.net/projects/markdown/syntax\n",
    "* Original IPython Article by F. Perez: https://web.archive.org/web/20100602042637/http:/fperez.org/papers/ipython07_pe-gr_cise.pdf\n",
    "\n"
   ]
  }
 ],
 "metadata": {
  "kernelspec": {
   "display_name": "R",
   "language": "R",
   "name": "ir"
  },
  "language_info": {
   "codemirror_mode": "r",
   "file_extension": ".r",
   "mimetype": "text/x-r-source",
   "name": "R",
   "pygments_lexer": "r",
   "version": "3.2.2"
  },
  "nav_menu": {},
  "toc": {
   "navigate_menu": true,
   "number_sections": true,
   "sideBar": true,
   "threshold": 6,
   "toc_cell": false,
   "toc_section_display": "block",
   "toc_window_display": false
  }
 },
 "nbformat": 4,
 "nbformat_minor": 0
}
