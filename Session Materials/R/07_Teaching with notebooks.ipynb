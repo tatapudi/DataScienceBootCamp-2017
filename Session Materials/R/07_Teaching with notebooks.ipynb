{
 "cells": [
  {
   "cell_type": "markdown",
   "metadata": {
    "slideshow": {
     "slide_type": "slide"
    }
   },
   "source": [
    "# Teaching, Training and Workshoping with Jupyter Notebooks"
   ]
  },
  {
   "cell_type": "markdown",
   "metadata": {
    "slideshow": {
     "slide_type": "slide"
    }
   },
   "source": [
    "## Before you start\n",
    "* Is it a course, workshop or for a colleague down the road?\n",
    "  * local vs. cloud\n",
    "  * singe vs. multi-tenant\n",
    "  * persistent\n",
    "* Audience - how much code should I have?\n",
    "* Will this be a presentation as well?"
   ]
  },
  {
   "cell_type": "markdown",
   "metadata": {
    "slideshow": {
     "slide_type": "slide"
    }
   },
   "source": [
    "## Designing interesting notebooks\n",
    "* Motivation - quick exercise (\"teaser code\") with engaging plot\n",
    "* Embed images often\n",
    "* Exercises - often and small\n",
    "* Bonus exercises"
   ]
  },
  {
   "cell_type": "markdown",
   "metadata": {
    "slideshow": {
     "slide_type": "slide"
    }
   },
   "source": [
    "## Tips:  beyond notebooks\n",
    "* Pre and post surveys\n",
    "* Sticky notes"
   ]
  },
  {
   "cell_type": "markdown",
   "metadata": {
    "collapsed": true,
    "slideshow": {
     "slide_type": "slide"
    }
   },
   "source": [
    "## Additional thoughts\n",
    "\n",
    "* Think about code cells and markdown cells as if they would be a slide in a presentation"
   ]
  }
 ],
 "metadata": {
  "kernelspec": {
   "display_name": "R",
   "language": "R",
   "name": "ir"
  },
  "language_info": {
   "codemirror_mode": "r",
   "file_extension": ".r",
   "mimetype": "text/x-r-source",
   "name": "R",
   "pygments_lexer": "r",
   "version": "3.2.2"
  },
  "nav_menu": {},
  "toc": {
   "navigate_menu": true,
   "number_sections": true,
   "sideBar": true,
   "threshold": 6,
   "toc_cell": false,
   "toc_section_display": "block",
   "toc_window_display": false
  }
 },
 "nbformat": 4,
 "nbformat_minor": 0
}
