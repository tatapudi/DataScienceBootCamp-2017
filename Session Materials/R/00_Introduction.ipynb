{
 "cells": [
  {
   "cell_type": "markdown",
   "metadata": {
    "slideshow": {
     "slide_type": "slide"
    }
   },
   "source": [
    "# Jupyter Notebooks for Reproducible Research\n",
    "\n",
    "\n",
    "\n",
    "\n",
    "\n",
    "* Material at: https://github.com/michhar/useR2016-tutorial-jupyter\n",
    "* Live session at: https://aka.ms/user-jupyter\n"
   ]
  },
  {
   "cell_type": "markdown",
   "metadata": {
    "slideshow": {
     "slide_type": "slide"
    }
   },
   "source": [
    "# Housekeeping\n",
    "\n",
    "1. Ask questions at any time\n",
    "2. Use the sticky note for:\n",
    "  - Red: I want help\n",
    "  - Blue: All is good"
   ]
  },
  {
   "cell_type": "markdown",
   "metadata": {
    "slideshow": {
     "slide_type": "slide"
    }
   },
   "source": [
    "# Quick Poll"
   ]
  },
  {
   "cell_type": "markdown",
   "metadata": {
    "slideshow": {
     "slide_type": "fragment"
    }
   },
   "source": [
    "* Have you used Jupyter notebooks before?"
   ]
  },
  {
   "cell_type": "markdown",
   "metadata": {
    "slideshow": {
     "slide_type": "fragment"
    }
   },
   "source": [
    "* Are you familiar with markdown syntax?"
   ]
  },
  {
   "cell_type": "markdown",
   "metadata": {
    "slideshow": {
     "slide_type": "slide"
    }
   },
   "source": [
    "# What is a Jupyter notebook?\n",
    "\n",
    "* Interactive environment for running code\n",
    "* A way to mix text (markdown) and code\n",
    "* A way to create reports\n",
    "* A way to share samples and code snippets\n",
    "* A dynamic way of teaching"
   ]
  },
  {
   "cell_type": "markdown",
   "metadata": {
    "slideshow": {
     "slide_type": "slide"
    }
   },
   "source": [
    "# Quick demo\n",
    "\n",
    "<img src=\"images/00_Welcome/simulate-pi.png\">"
   ]
  },
  {
   "cell_type": "markdown",
   "metadata": {
    "slideshow": {
     "slide_type": "slide"
    }
   },
   "source": [
    "# In today's session\n",
    "\n",
    "Item|Topic|Start time|Duration\n",
    "----|-----|---------|--------\n",
    " |Welcome|13:00|10\n",
    "1|History and perspective|13:10|10\n",
    "2|How does Jupyter work?|13:20|10\n",
    "3|Working with notebooks, using image example|13:30|30\n",
    "4|Notebooks and reproducible research|14:00|15\n",
    " |---- BREAK ---|14:15|15\n",
    "5|Lab - image analysis|14:30|45\n",
    "6|Jupyter Notebooks in the Azure Cloud|15:15|15\n",
    "7|Teaching concepts with notebooks|15:30|15\n",
    "8|Wrap up|15:45|15\n",
    " |--- Session ends ---|16:00| \n",
    "\n",
    "\n"
   ]
  },
  {
   "cell_type": "markdown",
   "metadata": {
    "slideshow": {
     "slide_type": "slide"
    }
   },
   "source": [
    "# Log in to your notebook environment\n",
    "\n",
    "You should have:\n",
    "\n",
    "* URL\n",
    "   - https://aka.ms/user-jupyter\n",
    "* User ID\n",
    "* Password\n",
    "\n",
    "In a browser (preferably chrome), navigate to the URL.\n",
    "\n",
    "Log in using your ID and password\n"
   ]
  },
  {
   "cell_type": "markdown",
   "metadata": {
    "slideshow": {
     "slide_type": "slide"
    }
   },
   "source": [
    "# Logging in\n",
    "\n",
    "<img src=\"images/00_Welcome/login.png\">"
   ]
  },
  {
   "cell_type": "markdown",
   "metadata": {
    "slideshow": {
     "slide_type": "slide"
    }
   },
   "source": [
    "# Success?\n",
    "\n",
    "Can you log in to the environment?\n",
    "\n",
    "* Use a blue sticky to indicate **yes**\n",
    "* Use a red sticky to indicate **no**\n",
    "\n"
   ]
  },
  {
   "cell_type": "markdown",
   "metadata": {
    "slideshow": {
     "slide_type": "slide"
    }
   },
   "source": [
    "# Let's gets started!"
   ]
  }
 ],
 "metadata": {
  "celltoolbar": "Slideshow",
  "kernelspec": {
   "display_name": "R",
   "language": "R",
   "name": "ir"
  },
  "language_info": {
   "codemirror_mode": "r",
   "file_extension": ".r",
   "mimetype": "text/x-r-source",
   "name": "R",
   "pygments_lexer": "r",
   "version": "3.2.2"
  }
 },
 "nbformat": 4,
 "nbformat_minor": 0
}
