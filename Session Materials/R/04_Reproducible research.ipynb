{
 "cells": [
  {
   "cell_type": "markdown",
   "metadata": {
    "slideshow": {
     "slide_type": "slide"
    }
   },
   "source": [
    "# Reproducible research"
   ]
  },
  {
   "cell_type": "markdown",
   "metadata": {
    "slideshow": {
     "slide_type": "slide"
    }
   },
   "source": [
    "# Definition\n",
    "\n",
    "> The goal of reproducible research is to tie specific instructions to data analysis and experimental data so that scholarship can be recreated, better understood and verified.\n",
    "\n",
    "Source: [CRAN Taskview](https://cran.r-project.org/web/views/ReproducibleResearch.html)"
   ]
  },
  {
   "cell_type": "markdown",
   "metadata": {
    "slideshow": {
     "slide_type": "slide"
    }
   },
   "source": [
    "# Literate programming\n",
    "\n",
    "* A new approach to programming, introduced by Donald Knuth\n",
    "* Programme is in natural language, e.g. English\n",
    "* Interspersed with macros that contain machine instructions\n"
   ]
  },
  {
   "cell_type": "markdown",
   "metadata": {
    "slideshow": {
     "slide_type": "slide"
    }
   },
   "source": [
    "# Example of LaTEX in text\n",
    "\n",
    "```\n",
    "The purpose of wc is to count lines, words, and/or characters in a list of files. The\n",
    "number of lines in a file is ......../more explanations/\n",
    "\n",
    "Here, then, is an overview of the file wc.c that is defined by the noweb program wc.nw:\n",
    "```\n",
    "```c\n",
    "    <<*>>=\n",
    "    <<Header files to include>>\n",
    "    <<Definitions>>\n",
    "    <<Global variables>>\n",
    "    <<Functions>>\n",
    "    <<The main program>>\n",
    "    @\n",
    "```\n",
    "\n",
    "```\n",
    "We must include the standard I/O definitions, since we want to send formatted output\n",
    "to stdout and stderr.\n",
    "```\n",
    "```c\n",
    "    <<Header files to include>>=\n",
    "    #include <stdio.h>\n",
    "    @\n",
    "```"
   ]
  },
  {
   "cell_type": "markdown",
   "metadata": {
    "slideshow": {
     "slide_type": "slide"
    }
   },
   "source": [
    "# From LaTex to Notebooks\n",
    "\n",
    "First there was LaTex\n",
    "\n",
    "Then knitr emerged, followed by rmarkdown\n",
    "\n",
    "Jupyter Notebooks followed a different evolutionary path"
   ]
  },
  {
   "cell_type": "markdown",
   "metadata": {
    "slideshow": {
     "slide_type": "slide"
    }
   },
   "source": [
    "# Markdown vs Notebooks\n",
    "\n",
    "**knitr and rmardown** | **Notebooks**\n",
    "-------- | ---------\n",
    "Runs in IDE            | Runs in web browser\n",
    "R embedded in markdown | Markdown and R both embedded as cells\n",
    "Static                 | Interactive\n",
    "Better for reporting   | Better for exploration, prototyping\n",
    "\n",
    "You can use both systems for creating automated reporting:\n",
    "\n",
    "* With knitr use `knit()` and family\n",
    "* With notebooks use `nbconvert` on the command line"
   ]
  }
 ],
 "metadata": {
  "kernelspec": {
   "display_name": "R",
   "language": "R",
   "name": "ir"
  },
  "language_info": {
   "codemirror_mode": "r",
   "file_extension": ".r",
   "mimetype": "text/x-r-source",
   "name": "R",
   "pygments_lexer": "r",
   "version": "3.2.2"
  },
  "nav_menu": {},
  "toc": {
   "navigate_menu": true,
   "number_sections": true,
   "sideBar": true,
   "threshold": 6,
   "toc_cell": false,
   "toc_section_display": "block",
   "toc_window_display": false
  }
 },
 "nbformat": 4,
 "nbformat_minor": 0
}
