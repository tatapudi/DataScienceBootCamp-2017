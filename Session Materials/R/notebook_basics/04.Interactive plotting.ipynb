{
 "cells": [
  {
   "cell_type": "markdown",
   "metadata": {},
   "source": [
    "# \"Airports in the United States\"\n",
    "- This was originally an r-markdown file, now converted to notebook format, from John Lam's [repo here](https://github.com/jflam/VSDemos).  I've also adapted some of the plotting because javascript+html is quite a bit <i>different</i> in a jupyter notebook, especially with the R kernel.\n",
    "\n"
   ]
  },
  {
   "cell_type": "markdown",
   "metadata": {},
   "source": [
    "For packages that will be used here you may have to go to the terminal or R GUI you use and set these appropriately:\n",
    "1. setRepositories()\n",
    "* chooseCRANmirror()"
   ]
  },
  {
   "cell_type": "code",
   "execution_count": 26,
   "metadata": {
    "collapsed": false
   },
   "outputs": [
    {
     "name": "stdout",
     "output_type": "stream",
     "text": [
      "\n",
      "The downloaded source packages are in\n",
      "\t‘/private/var/folders/_f/464k2bb144v0gwg6lys9db780000gn/T/RtmptCBksm/downloaded_packages’\n"
     ]
    },
    {
     "name": "stderr",
     "output_type": "stream",
     "text": [
      "also installing the dependency ‘png’\n",
      "\n",
      "Warning message:\n",
      "In install.packages(c(\"DT\", \"htmlwidgets\", \"leaflet\"), repos = \"http://cloud.r-project.org\", : installation of package ‘png’ had non-zero exit statusWarning message:\n",
      "In install.packages(c(\"DT\", \"htmlwidgets\", \"leaflet\"), repos = \"http://cloud.r-project.org\", : installation of package ‘leaflet’ had non-zero exit status"
     ]
    },
    {
     "name": "stdout",
     "output_type": "stream",
     "text": [
      "\n",
      "The downloaded source packages are in\n",
      "\t‘/private/var/folders/_f/464k2bb144v0gwg6lys9db780000gn/T/RtmptCBksm/downloaded_packages’\n"
     ]
    }
   ],
   "source": [
    "# add a local lib to the R library path (for permission purposes)\n",
    "local_lib = '/Users/micheleenharris/lib/R' # this must exist!\n",
    ".libPaths(c(.libPaths(), local_lib))\n",
    "\n",
    "# package to grab url data\n",
    "install.packages('RCurl', repos = \"http://cloud.r-project.org\", lib = local_lib)\n",
    "\n",
    "# some interactive plotting packages\n",
    "install.packages(c(\"DT\", \"htmlwidgets\", \"leaflet\"),\n",
    "                repos = \"http://cloud.r-project.org\",\n",
    "                lib = local_lib)"
   ]
  },
  {
   "cell_type": "markdown",
   "metadata": {},
   "source": [
    "Let's load a list of airport data from https://github.com/jpatokal/openflights"
   ]
  },
  {
   "cell_type": "code",
   "execution_count": 9,
   "metadata": {
    "collapsed": false
   },
   "outputs": [],
   "source": [
    "# TIP:  often you'll want some data externally, but can not upload a file to jupyter system\n",
    "#   In this case I pull directly from a raw file online (like a repo file here)\n",
    "\n",
    "library(RCurl)\n",
    "\n",
    "airports <- getURL(\"https://raw.githubusercontent.com/jflam/VSDemos/master/RTVSDemos/airports.dat\")\n",
    "airports <- read.csv(text = airports, \n",
    "                     header = FALSE)\n",
    "colnames(airports) <- c(\"ID\", \"name\", \"city\", \"country\", \"IATA_FAA\", \"ICAO\", \"lat\", \"lon\", \n",
    "                        \"altitude\", \"timezone\", \"DST\", \"Region\")"
   ]
  },
  {
   "cell_type": "markdown",
   "metadata": {},
   "source": [
    "This data set contains airports from all over the world. Let's get only the \n",
    "airports from the United States."
   ]
  },
  {
   "cell_type": "code",
   "execution_count": 12,
   "metadata": {
    "collapsed": false,
    "scrolled": true
   },
   "outputs": [
    {
     "ename": "ERROR",
     "evalue": "Error in library(htmlwidgets): Package ‘htmlwidgets’ version 0.6 cannot be unloaded\n",
     "output_type": "error",
     "traceback": [
      "Error in library(htmlwidgets): Package ‘htmlwidgets’ version 0.6 cannot be unloaded\n"
     ]
    },
    {
     "data": {
      "text/html": [
       "<iframe src='  something.html  ' width = 100% height = 400>"
      ]
     },
     "metadata": {},
     "output_type": "display_data"
    }
   ],
   "source": [
    "usa_airports <- subset(airports, country == \"United States\")\n",
    "\n",
    "# DT is a really nifty interactive table library with pagination\n",
    "library(DT)\n",
    "table <- datatable(usa_airports[,c(\"name\", \"city\", \"country\", \"IATA_FAA\", \"lat\", \"lon\", \"altitude\")])\n",
    "\n",
    "# Here is the trick to get an interactive graphic to work in notebooks\n",
    "# 1. load htmlwidgets\n",
    "# 2. save interactive object to an html file with saveWidget\n",
    "# 3. load the html back into the notebook and into an iframe element for display with IRdisplay\n",
    "\n",
    "library(htmlwidgets) # lots of cool widgets associated w/ this (http://www.htmlwidgets.org/)\n",
    "\n",
    "fname <- \"something.html\"\n",
    "\n",
    "# selfcontained = FASLE means: save a file with external resources placed in an adjacent directory\n",
    "#  do this just in case there are external resources\n",
    "saveWidget(table, file = fname, selfcontained = F)\n",
    "IRdisplay::display_html(paste(\"<iframe src=' \", fname, \" ' width = 100% height = 400>\"))"
   ]
  },
  {
   "cell_type": "markdown",
   "metadata": {},
   "source": [
    "Let's generate a static map containing the location of all of the airports in the USA"
   ]
  },
  {
   "cell_type": "code",
   "execution_count": 22,
   "metadata": {
    "attributes": {
     "classes": [],
     "id": "",
     "message": "FALSE,",
     "warning": "FALSE"
    },
    "collapsed": false
   },
   "outputs": [
    {
     "ename": "ERROR",
     "evalue": "Error in library(ggmap): there is no package called ‘ggmap’\n",
     "output_type": "error",
     "traceback": [
      "Error in library(ggmap): there is no package called ‘ggmap’\n"
     ]
    },
    {
     "ename": "ERROR",
     "evalue": "Error in eval(expr, envir, enclos): could not find function \"get_map\"\n",
     "output_type": "error",
     "traceback": [
      "Error in eval(expr, envir, enclos): could not find function \"get_map\"\n"
     ]
    },
    {
     "ename": "ERROR",
     "evalue": "Error in eval(expr, envir, enclos): could not find function \"ggmap\"\n",
     "output_type": "error",
     "traceback": [
      "Error in eval(expr, envir, enclos): could not find function \"ggmap\"\n"
     ]
    }
   ],
   "source": [
    "library(ggmap)\n",
    "map <- get_map(location = \"Seattle, WA\", zoom = 3)\n",
    "ggmap(map) + geom_point(aes(x = lon, y = lat), data = usa_airports, alpha = 0.25)"
   ]
  },
  {
   "cell_type": "markdown",
   "metadata": {},
   "source": [
    "Let's generate a zoomable, pannable map using the leaflet package. Here you can\n",
    "see airports that belong to the USA that aren't geographically within the borders\n",
    "of the United States."
   ]
  },
  {
   "cell_type": "code",
   "execution_count": 23,
   "metadata": {
    "collapsed": false,
    "scrolled": true
   },
   "outputs": [
    {
     "ename": "ERROR",
     "evalue": "Error in library(leaflet): there is no package called ‘leaflet’\n",
     "output_type": "error",
     "traceback": [
      "Error in library(leaflet): there is no package called ‘leaflet’\n"
     ]
    },
    {
     "ename": "ERROR",
     "evalue": "Error in eval(expr, envir, enclos): could not find function \"leaflet\"\n",
     "output_type": "error",
     "traceback": [
      "Error in eval(expr, envir, enclos): could not find function \"leaflet\"\n"
     ]
    },
    {
     "ename": "ERROR",
     "evalue": "Error in library(htmlwidgets): Package ‘htmlwidgets’ version 0.6 cannot be unloaded\n",
     "output_type": "error",
     "traceback": [
      "Error in library(htmlwidgets): Package ‘htmlwidgets’ version 0.6 cannot be unloaded\n"
     ]
    },
    {
     "ename": "ERROR",
     "evalue": "Error in resolveSizing(x, x$sizingPolicy, standalone = standalone, knitrOptions = knitrOptions): object 'm' not found\n",
     "output_type": "error",
     "traceback": [
      "Error in resolveSizing(x, x$sizingPolicy, standalone = standalone, knitrOptions = knitrOptions): object 'm' not found\n"
     ]
    },
    {
     "data": {
      "text/html": [
       "<iframe src='  tmp.html  ' width = 100% height = 400>"
      ]
     },
     "metadata": {},
     "output_type": "display_data"
    }
   ],
   "source": [
    "library(leaflet)\n",
    "m <- leaflet(data = usa_airports) %>%\n",
    "  addTiles() %>%  # Add default OpenStreetMap map tiles\n",
    "  addCircles(~lon, ~lat, popup = ~name)\n",
    "\n",
    "# Trick again - probably should make into a fxn\n",
    "library(htmlwidgets)\n",
    "fname = 'tmp.html'\n",
    "saveWidget(m, file = fname, selfcontained = F)\n",
    "IRdisplay::display_html(paste(\"<iframe src=' \", fname, \" ' width = 100% height = 400>\"))"
   ]
  },
  {
   "cell_type": "code",
   "execution_count": 25,
   "metadata": {
    "collapsed": false
   },
   "outputs": [
    {
     "ename": "ERROR",
     "evalue": "Error in library(leaflet): there is no package called ‘leaflet’\n",
     "output_type": "error",
     "traceback": [
      "Error in library(leaflet): there is no package called ‘leaflet’\n"
     ]
    },
    {
     "ename": "ERROR",
     "evalue": "Error in eval(expr, envir, enclos): could not find function \"colorQuantile\"\n",
     "output_type": "error",
     "traceback": [
      "Error in eval(expr, envir, enclos): could not find function \"colorQuantile\"\n"
     ]
    },
    {
     "ename": "ERROR",
     "evalue": "Error in eval(expr, envir, enclos): could not find function \"leaflet\"\n",
     "output_type": "error",
     "traceback": [
      "Error in eval(expr, envir, enclos): could not find function \"leaflet\"\n"
     ]
    },
    {
     "ename": "ERROR",
     "evalue": "Error in library(htmlwidgets): Package ‘htmlwidgets’ version 0.6 cannot be unloaded\n",
     "output_type": "error",
     "traceback": [
      "Error in library(htmlwidgets): Package ‘htmlwidgets’ version 0.6 cannot be unloaded\n"
     ]
    },
    {
     "ename": "ERROR",
     "evalue": "Error in resolveSizing(x, x$sizingPolicy, standalone = standalone, knitrOptions = knitrOptions): object 'm' not found\n",
     "output_type": "error",
     "traceback": [
      "Error in resolveSizing(x, x$sizingPolicy, standalone = standalone, knitrOptions = knitrOptions): object 'm' not found\n"
     ]
    },
    {
     "data": {
      "text/html": [
       "<iframe src='  tmp.html  ' width = 100% height = 400>"
      ]
     },
     "metadata": {},
     "output_type": "display_data"
    }
   ],
   "source": [
    "library(leaflet)\n",
    "pal <- colorQuantile(\"YlOrRd\", NULL, n = 8)\n",
    "m <- leaflet(usa_airports) %>% \n",
    "  addTiles() %>%\n",
    "  addCircleMarkers(color = ~pal(lat))\n",
    "\n",
    "# Trick again just for good measure\n",
    "library(htmlwidgets)\n",
    "fname = 'tmp.html'\n",
    "saveWidget(m, file = fname, selfcontained = F)\n",
    "IRdisplay::display_html(paste(\"<iframe src=' \", fname, \" ' width = 100% height = 400>\"))"
   ]
  },
  {
   "cell_type": "markdown",
   "metadata": {},
   "source": [
    "Created by a Microsoft Employee based on work by another Microsoft Employee.\n",
    "\t\n",
    "The MIT License (MIT)<br>\n",
    "Copyright (c) 2016 Micheleen Harris"
   ]
  },
  {
   "cell_type": "code",
   "execution_count": null,
   "metadata": {
    "collapsed": true
   },
   "outputs": [],
   "source": []
  }
 ],
 "metadata": {
  "kernelspec": {
   "display_name": "R",
   "language": "R",
   "name": "ir"
  },
  "language_info": {
   "codemirror_mode": "r",
   "file_extension": ".r",
   "mimetype": "text/x-r-source",
   "name": "R",
   "pygments_lexer": "r",
   "version": "3.2.2"
  }
 },
 "nbformat": 4,
 "nbformat_minor": 0
}
