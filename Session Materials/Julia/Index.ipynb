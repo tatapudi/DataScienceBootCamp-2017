{
 "cells": [
  {
   "cell_type": "markdown",
   "metadata": {},
   "source": [
    "# Introduction to Julia\n",
    "\n",
    "This is an introdutory tutorial on the Julia programming language.\n",
    "\n",
    "Since it was first given at the SciPy 2014 conference, it has a slant towards people coming from Python, but it is designed to be accessible for anyone with a minimal amount of programming experience.\n",
    "\n",
    "We will cover the following topics:"
   ]
  },
  {
   "cell_type": "markdown",
   "metadata": {},
   "source": [
    "- [0. Why Julia?](0. Why Julia.ipynb) (presentation)\n",
    "- Fractal examples \n",
    "- [1. Basic Julia syntax](1. Introduction to Julia.ipynb)\n",
    "- [2. Graphics and packages](2. Packages and graphics in Julia.ipynb)\n",
    "- [3. Defining a new type](3. Example of defining a new type.ipynb)\n",
    "- [4. Performance in Julia](4. Performance in Julia.ipynb)\n",
    "- [5. Metaprogramming](5. Metaprogramming.ipynb)\n",
    "- [6. Interoperability with Python and C](6. Interoperability with Python and C.ipynb)\n",
    "- [∞. Where to go next](∞. What's next.ipynb)"
   ]
  }
 ],
 "metadata": {
  "kernelspec": {
   "display_name": "Julia 0.4.6",
   "language": "julia",
   "name": "julia-0.4"
  },
  "language_info": {
   "file_extension": ".jl",
   "mimetype": "application/julia",
   "name": "julia",
   "version": "0.4.6"
  },
  "widgets": {
   "state": {},
   "version": "1.1.2"
  }
 },
 "nbformat": 4,
 "nbformat_minor": 0
}
