{
 "cells": [
  {
   "cell_type": "markdown",
   "metadata": {},
   "source": [
    "# Installation tips\n",
    "* Easiest is to a miniconda + r-essentials install like [here](https://www.continuum.io/blog/developer/jupyter-and-conda-r) (If you want the hard way ask me later - i.e. the way where you can pick your R release version)"
   ]
  },
  {
   "cell_type": "markdown",
   "metadata": {},
   "source": [
    "# Installing packages\n",
    "* A lot of the time with jupyter systems you will encounter, you will not have permission to write to the default library so do this:"
   ]
  },
  {
   "cell_type": "code",
   "execution_count": null,
   "metadata": {
    "collapsed": false
   },
   "outputs": [],
   "source": [
    "# Check library location\n",
    ".libPaths()"
   ]
  },
  {
   "cell_type": "code",
   "execution_count": null,
   "metadata": {
    "collapsed": false
   },
   "outputs": [],
   "source": [
    "# Add a local path (if it doesn't exist nothing will happen)\n",
    ".libPaths(c(.libPaths(), \"C:/Users/michhar/Documents/bin/rmds\"))\n",
    "\n",
    "# Then recheck\n",
    ".libPaths()"
   ]
  },
  {
   "cell_type": "code",
   "execution_count": null,
   "metadata": {
    "collapsed": false
   },
   "outputs": [],
   "source": [
    "getwd()"
   ]
  },
  {
   "cell_type": "code",
   "execution_count": null,
   "metadata": {
    "collapsed": false
   },
   "outputs": [],
   "source": [
    "install.packages(\"ggplot2\", repos = \"http://cloud.r-project.org/\", \n",
    "                 lib = \"C:/Users/michhar/Documents/R/win-library/3.2/\")"
   ]
  },
  {
   "cell_type": "markdown",
   "metadata": {},
   "source": [
    "### Just so you know...you can write R code in a python notebook - here are some links:\n",
    "\n",
    "(this has some advantages such as using the more feature rich IPython kernel...but if you don't care about magics and OS interaction that much don't worry about it)\n",
    "* http://eneskemalergin.github.io/2015/10/01/R_Magic_with_IPython/\n",
    "* http://blog.revolutionanalytics.com/2016/01/pipelining-r-python.html - my shameless plug for myself"
   ]
  },
  {
   "cell_type": "markdown",
   "metadata": {
    "collapsed": true
   },
   "source": [
    "Created by a Microsoft Employee.\n",
    "\t\n",
    "The MIT License (MIT)<br>\n",
    "Copyright (c) 2016 Micheleen Harris"
   ]
  },
  {
   "cell_type": "code",
   "execution_count": null,
   "metadata": {
    "collapsed": true
   },
   "outputs": [],
   "source": []
  }
 ],
 "metadata": {
  "kernelspec": {
   "display_name": "R",
   "language": "R",
   "name": "ir"
  },
  "language_info": {
   "codemirror_mode": "r",
   "file_extension": ".r",
   "mimetype": "text/x-r-source",
   "name": "R",
   "pygments_lexer": "r",
   "version": "3.2.3"
  }
 },
 "nbformat": 4,
 "nbformat_minor": 0
}
