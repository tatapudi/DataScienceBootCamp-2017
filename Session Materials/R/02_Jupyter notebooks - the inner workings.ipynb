{
 "cells": [
  {
   "cell_type": "markdown",
   "metadata": {
    "slideshow": {
     "slide_type": "slide"
    }
   },
   "source": [
    "# Jupyter notebooks\n",
    "\n",
    "How does it work?"
   ]
  },
  {
   "cell_type": "markdown",
   "metadata": {
    "slideshow": {
     "slide_type": "slide"
    }
   },
   "source": [
    "> The Jupyter Notebook is a web application that allows you to create and share documents that contain live code, equations, visualizations and explanatory text. Uses include: data cleaning and transformation, numerical simulation, statistical modeling, machine learning and much more.\n",
    " - http://jupyter.org/\n",
    " \n",
    "\n",
    " \n"
   ]
  },
  {
   "cell_type": "markdown",
   "metadata": {
    "slideshow": {
     "slide_type": "slide"
    }
   },
   "source": [
    "<img src= \"images/02_Jupyter the inner workings/Notebook sample breast cancer.png\", width=100%>"
   ]
  },
  {
   "cell_type": "markdown",
   "metadata": {
    "slideshow": {
     "slide_type": "slide"
    }
   },
   "source": [
    "# The Jupyter project\n",
    "\n",
    "Jupyter is an open source project\n",
    "\n",
    "* Written in python\n",
    "* Kernels enable connectivity to other languages\n",
    "\n",
    "Dependencies\n",
    "\n",
    "* The kernel and target languages communicates using ZeroMQ message queuing engine\n",
    "\n",
    "Installation\n",
    "\n",
    "* An easy way to get Jupyter is to install the Anaconda distribution\n"
   ]
  },
  {
   "cell_type": "markdown",
   "metadata": {},
   "source": [
    "# ZeroMQ\n",
    "\n",
    "![](images/02_Jupyter the inner workings/zeromq.png)"
   ]
  },
  {
   "cell_type": "markdown",
   "metadata": {
    "slideshow": {
     "slide_type": "slide"
    }
   },
   "source": [
    "# How does Jupyter work?\n",
    "\n",
    "<img src= \"images/02_Jupyter the inner workings/jupyter architecture 1.png\", width=100%>\n",
    "\n"
   ]
  },
  {
   "cell_type": "markdown",
   "metadata": {
    "slideshow": {
     "slide_type": "slide"
    }
   },
   "source": [
    "# How does Jupyter work with R?\n",
    "\n",
    "<img src= \"images/02_Jupyter the inner workings/jupyter architecture 2.png\", width=100%>\n",
    "\n",
    "\n"
   ]
  },
  {
   "cell_type": "markdown",
   "metadata": {
    "slideshow": {
     "slide_type": "slide"
    }
   },
   "source": [
    "# IRKernel\n",
    "\n",
    "* IRKernel is the most widely used kernel\n",
    "* This communicates between R and ZeroMQ\n"
   ]
  },
  {
   "cell_type": "markdown",
   "metadata": {
    "slideshow": {
     "slide_type": "slide"
    }
   },
   "source": [
    "# Installing Jupyter\n",
    "\n",
    "Several kernels exist for R. The most widely used is IRKernel\n",
    "\n",
    "* https://irkernel.github.io/\n",
    "\n",
    "Installation of the IRKernel"
   ]
  },
  {
   "cell_type": "code",
   "execution_count": 1,
   "metadata": {
    "collapsed": false
   },
   "outputs": [],
   "source": [
    "# install.packages(\n",
    "#  c('rzmq','repr','IRkernel','IRdisplay'), \n",
    "#  repos = c('http://irkernel.github.io/', \n",
    "#          getOption('repos'))\n",
    "#)\n"
   ]
  },
  {
   "cell_type": "markdown",
   "metadata": {},
   "source": [
    "Connect R to IRKernel"
   ]
  },
  {
   "cell_type": "code",
   "execution_count": 2,
   "metadata": {
    "collapsed": true
   },
   "outputs": [],
   "source": [
    "# IRkernel::installspec()\n"
   ]
  },
  {
   "cell_type": "markdown",
   "metadata": {
    "slideshow": {
     "slide_type": "slide"
    }
   },
   "source": [
    "# Jupyter is a single user environment\n",
    "\n",
    "\n",
    "* By default, Jupyter only exposes localhost\n",
    "* It is possible to open SSH or HTTPS access to a remote machine\n",
    "* However, this is only for a single user\n",
    "\n",
    "The solution is to use Jupyter Hub\n",
    "\n",
    "<img src= \"images/02_Jupyter the inner workings/jupyter hub logo.png\", width=25%>\n",
    "\n",
    "\n",
    "\n"
   ]
  },
  {
   "cell_type": "markdown",
   "metadata": {
    "collapsed": false,
    "slideshow": {
     "slide_type": "slide"
    }
   },
   "source": [
    "# Jupyter Hub\n",
    "\n",
    "<img src= \"images/02_Jupyter the inner workings/jupyter hub.png\", width=100%>\n"
   ]
  },
  {
   "cell_type": "markdown",
   "metadata": {
    "slideshow": {
     "slide_type": "slide"
    }
   },
   "source": [
    "# Jupyter Hub\n",
    "\n",
    "A multi-user server\n",
    "\n",
    "* manages and proxies multiple instances of the single-user IPython Jupyter notebook server.\n",
    "\n",
    "Three actors:\n",
    "\n",
    "* multi-user Hub (tornado process)\n",
    "* configurable http proxy (node-http-proxy)\n",
    "* multiple single-user IPython notebook servers (Python/IPython/tornado)\n",
    "\n",
    "Basic principles:\n",
    "\n",
    "* Hub spawns proxy\n",
    "* Proxy forwards ~all requests to hub by default\n",
    "* Hub handles login, and spawns single-user servers on demand\n",
    "* Hub configures proxy to forward url prefixes to single-user servers\n"
   ]
  },
  {
   "cell_type": "markdown",
   "metadata": {
    "collapsed": true
   },
   "source": [
    "# How we manage this workshop\n",
    "\n",
    "* Create a Data Science virtual machine on Azure\n",
    "  - Select the Linux version\n",
    "  - This contains Jupyter Notebooks as well as Jupyter Hub\n",
    "  \n",
    "* Create content and publish on github\n",
    "\n",
    "* git pull content to VM\n",
    "\n",
    "* Create users\n",
    "\n",
    "* Start Juptyer Hub"
   ]
  }
 ],
 "metadata": {
  "kernelspec": {
   "display_name": "R",
   "language": "R",
   "name": "ir"
  },
  "language_info": {
   "codemirror_mode": "r",
   "file_extension": ".r",
   "mimetype": "text/x-r-source",
   "name": "R",
   "pygments_lexer": "r",
   "version": "3.2.2"
  },
  "nav_menu": {},
  "toc": {
   "navigate_menu": true,
   "number_sections": true,
   "sideBar": true,
   "threshold": 6,
   "toc_cell": false,
   "toc_section_display": "block",
   "toc_window_display": false
  }
 },
 "nbformat": 4,
 "nbformat_minor": 0
}
